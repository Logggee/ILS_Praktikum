{
 "cells": [
  {
   "cell_type": "code",
   "execution_count": 24,
   "metadata": {},
   "outputs": [
    {
     "name": "stdout",
     "output_type": "stream",
     "text": [
      "[2 1 3 0] [1.70293864 1.87082869 2.88097206 3.17804972] [3.178049716414141, 1.8708286933869709, 1.7029386365926402, 2.8809720581775866]\n"
     ]
    }
   ],
   "source": [
    "import numpy as np\n",
    "\n",
    "X = np.array([[1,2,3],[2,3,4],[3,4,5],[4,5,6]]);      # data matrix X: list of data vectors (=database) of dimension D=3\n",
    "x = np.array([1.5,3.6,5.7]);                          # a test data vector\n",
    "k = 2\n",
    "\n",
    "indexes = np.argsort([np.linalg.norm(x - i) for i in X])    #Euklidische Normen Sortiert nach Index der Vektoren aufsteigend\n",
    "distencesSorted = np.sort([np.linalg.norm(x - i) for i in X])   #Euklidische Normen Sortiert aufsteigend\n",
    "distences = [np.linalg.norm(x - i) for i in X]  #Berechnet Euklidische Normen zwischen den Vektoren\n",
    "#test = np.sort(test)\n",
    "print(indexes, distencesSorted, distences)"
   ]
  },
  {
   "cell_type": "code",
   "execution_count": null,
   "metadata": {},
   "outputs": [],
   "source": []
  }
 ],
 "metadata": {
  "kernelspec": {
   "display_name": "base",
   "language": "python",
   "name": "python3"
  },
  "language_info": {
   "codemirror_mode": {
    "name": "ipython",
    "version": 3
   },
   "file_extension": ".py",
   "mimetype": "text/x-python",
   "name": "python",
   "nbconvert_exporter": "python",
   "pygments_lexer": "ipython3",
   "version": "3.9.13"
  }
 },
 "nbformat": 4,
 "nbformat_minor": 2
}
