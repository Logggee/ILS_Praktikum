{
 "cells": [
  {
   "cell_type": "code",
   "execution_count": 10,
   "metadata": {},
   "outputs": [
    {
     "name": "stdout",
     "output_type": "stream",
     "text": [
      "<function <listcomp>.<lambda> at 0x7fd2337c0a60>\n",
      "<function <listcomp>.<lambda> at 0x7fd2337c0d30>\n",
      "<function <listcomp>.<lambda> at 0x7fd2337c0dc0>\n",
      "<function <listcomp>.<lambda> at 0x7fd2337c0e50>\n"
     ]
    }
   ],
   "source": [
    "m = 3\n",
    "phi = [lambda x,n=n: x[0]**n for n in range(m+1)]\n",
    "for i in phi:\n",
    "    print(str(i))"
   ]
  },
  {
   "cell_type": "code",
   "execution_count": 12,
   "metadata": {},
   "outputs": [
    {
     "name": "stdout",
     "output_type": "stream",
     "text": [
      "27\n"
     ]
    }
   ],
   "source": [
    "n = 3\n",
    "test = lambda x,n=n: x[0]**n\n",
    "print(test([3]))"
   ]
  },
  {
   "cell_type": "code",
   "execution_count": 16,
   "metadata": {},
   "outputs": [
    {
     "name": "stdout",
     "output_type": "stream",
     "text": [
      "phi_poly1D([2])= [ 1  2  4  8 16 32]\n"
     ]
    }
   ],
   "source": [
    "import numpy as np \n",
    "import itertools\n",
    "\n",
    "def get_phi_polyD1(m):   # return list of 1D polynomial basis functions phi_j(x) of degree m\n",
    "    phi = [lambda x,n=n: x[0]**n for n in range(m+1)]        # generate list of basis functions phi_n(x):=x^n for n=0,1,...,m\n",
    "    return lambda x: np.array([phi_j(x) for phi_j in phi])   # return function generating feature vector phi(x) for input x \n",
    "\n",
    "phi_poly1D = get_phi_polyD1(5)\n",
    "print(\"phi_poly1D([2])=\",phi_poly1D([2]))\n"
   ]
  },
  {
   "cell_type": "code",
   "execution_count": 17,
   "metadata": {},
   "outputs": [
    {
     "name": "stdout",
     "output_type": "stream",
     "text": [
      "n0:  0 n1:  0\n",
      "n0:  0 n1:  1\n",
      "n0:  1 n1:  0\n",
      "n0:  0 n1:  2\n",
      "n0:  1 n1:  1\n",
      "n0:  2 n1:  0\n",
      "n0:  0 n1:  3\n",
      "n0:  1 n1:  2\n",
      "n0:  2 n1:  1\n",
      "n0:  3 n1:  0\n",
      "n0:  0 n1:  4\n",
      "n0:  1 n1:  3\n",
      "n0:  2 n1:  2\n",
      "n0:  3 n1:  1\n",
      "n0:  4 n1:  0\n",
      "phi_poly2D([1,2])= [ 1  2  1  4  2  1  8  4  2  1 16  8  4  2  1]\n"
     ]
    }
   ],
   "source": [
    "def get_phi_polyD2(m):   # return list of 2D polynomial basis functions phi_j(x0,x1) of degree m\n",
    "    phi = []\n",
    "    for n in range(m+1):            # loop over total degree n=0,1,2,...,m\n",
    "        for n0 in range(n+1):       # loop over all n0 (and n1:=n-n0) with n0+n1=n\n",
    "            n1=n-n0\n",
    "            print(\"n0: \",n0, \"n1: \", n1)\n",
    "            phi+=[lambda x,n0=n0,n1=n1: x[0]**n0 * x[1]**n1]    # add basis function x0^n0 x1^n1\n",
    "    return lambda x: np.array([phi_j(x) for phi_j in phi])   # return function generating feature vector phi(x) for input x \n",
    "\n",
    "phi_poly2D = get_phi_polyD2(4)\n",
    "print(\"phi_poly2D([1,2])=\",phi_poly2D([1,2]))"
   ]
  },
  {
   "cell_type": "code",
   "execution_count": 23,
   "metadata": {},
   "outputs": [
    {
     "name": "stdout",
     "output_type": "stream",
     "text": [
      "0\n"
     ]
    }
   ],
   "source": [
    "from itertools import product\n",
    "m = 4\n",
    "d = 2\n",
    "\n",
    "list_ni=[x for x in product([x for x in range(m+1)], repeat=d)] \n",
    "print(list_ni[0][0])"
   ]
  }
 ],
 "metadata": {
  "kernelspec": {
   "display_name": "base",
   "language": "python",
   "name": "python3"
  },
  "language_info": {
   "codemirror_mode": {
    "name": "ipython",
    "version": 3
   },
   "file_extension": ".py",
   "mimetype": "text/x-python",
   "name": "python",
   "nbconvert_exporter": "python",
   "pygments_lexer": "ipython3",
   "version": "3.9.13"
  }
 },
 "nbformat": 4,
 "nbformat_minor": 2
}
